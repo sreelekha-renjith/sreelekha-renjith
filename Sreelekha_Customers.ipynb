{
 "cells": [
  {
   "cell_type": "markdown",
   "id": "40154998",
   "metadata": {},
   "source": [
    "# CUSTOMER REPORT"
   ]
  },
  {
   "cell_type": "markdown",
   "id": "3adec7b8",
   "metadata": {},
   "source": [
    "## LOAD CSV FILE AND CLEANING DATA USING PANDAS"
   ]
  },
  {
   "cell_type": "code",
   "execution_count": 1,
   "id": "ea14661e",
   "metadata": {},
   "outputs": [],
   "source": [
    "# Import All Python libraries needed for Data Analysis"
   ]
  },
  {
   "cell_type": "code",
   "execution_count": 2,
   "id": "2d40dd70",
   "metadata": {},
   "outputs": [],
   "source": [
    "import numpy as np\n",
    "import pandas as pd\n",
    "import matplotlib.pyplot as plt\n",
    "import datetime as dt\n",
    "import seaborn as sns\n",
    "%matplotlib inline"
   ]
  },
  {
   "cell_type": "code",
   "execution_count": 3,
   "id": "dde86e10",
   "metadata": {},
   "outputs": [],
   "source": [
    "# Load Customers.csv file into Python"
   ]
  },
  {
   "cell_type": "code",
   "execution_count": 4,
   "id": "17323b31",
   "metadata": {},
   "outputs": [],
   "source": [
    "df=pd.read_csv(r'C:\\Users\\AsokkumR\\Downloads\\Customers.csv',sep='|',encoding='UTF-16')"
   ]
  },
  {
   "cell_type": "code",
   "execution_count": 5,
   "id": "be261a72",
   "metadata": {},
   "outputs": [],
   "source": [
    "# Print Last records to check uncleaned data"
   ]
  },
  {
   "cell_type": "code",
   "execution_count": 6,
   "id": "1d8977c3",
   "metadata": {},
   "outputs": [
    {
     "data": {
      "text/html": [
       "<div>\n",
       "<style scoped>\n",
       "    .dataframe tbody tr th:only-of-type {\n",
       "        vertical-align: middle;\n",
       "    }\n",
       "\n",
       "    .dataframe tbody tr th {\n",
       "        vertical-align: top;\n",
       "    }\n",
       "\n",
       "    .dataframe thead th {\n",
       "        text-align: right;\n",
       "    }\n",
       "</style>\n",
       "<table border=\"1\" class=\"dataframe\">\n",
       "  <thead>\n",
       "    <tr style=\"text-align: right;\">\n",
       "      <th></th>\n",
       "      <th>CustomerID</th>\n",
       "      <th>BusinessEntityID</th>\n",
       "      <th>Title</th>\n",
       "      <th>FirstName</th>\n",
       "      <th>MiddleName</th>\n",
       "      <th>LastName</th>\n",
       "      <th>Suffix</th>\n",
       "      <th>TotalPurchaseYTD</th>\n",
       "      <th>DateFirstPurchase</th>\n",
       "      <th>BirthDate</th>\n",
       "      <th>MaritalStatus</th>\n",
       "      <th>YearlyIncome</th>\n",
       "      <th>Gender</th>\n",
       "      <th>TotalChildren</th>\n",
       "      <th>NumberChildrenAtHome</th>\n",
       "      <th>Education</th>\n",
       "      <th>Ocupation</th>\n",
       "      <th>HomeOwnerFlag</th>\n",
       "      <th>NumberCarsOwned</th>\n",
       "      <th>CommuteDistance</th>\n",
       "    </tr>\n",
       "  </thead>\n",
       "  <tbody>\n",
       "    <tr>\n",
       "      <th>18479</th>\n",
       "      <td>19379</td>\n",
       "      <td>20773</td>\n",
       "      <td>NaN</td>\n",
       "      <td>Crystal</td>\n",
       "      <td>NaN</td>\n",
       "      <td>Guo</td>\n",
       "      <td>NaN</td>\n",
       "      <td>54.48</td>\n",
       "      <td>2004-04-19</td>\n",
       "      <td>1974-11-23</td>\n",
       "      <td>S</td>\n",
       "      <td>0-25000</td>\n",
       "      <td>F</td>\n",
       "      <td>0</td>\n",
       "      <td>0</td>\n",
       "      <td>Partial High School</td>\n",
       "      <td>Manual</td>\n",
       "      <td>1</td>\n",
       "      <td>2</td>\n",
       "      <td>0-1 Miles</td>\n",
       "    </tr>\n",
       "    <tr>\n",
       "      <th>18480</th>\n",
       "      <td>13933</td>\n",
       "      <td>20774</td>\n",
       "      <td>NaN</td>\n",
       "      <td>Isabella</td>\n",
       "      <td>F</td>\n",
       "      <td>Richardson</td>\n",
       "      <td>NaN</td>\n",
       "      <td>-13.01</td>\n",
       "      <td>2003-08-30</td>\n",
       "      <td>1961-06-12</td>\n",
       "      <td>M</td>\n",
       "      <td>50001-75000</td>\n",
       "      <td>F</td>\n",
       "      <td>1</td>\n",
       "      <td>0</td>\n",
       "      <td>Partial College</td>\n",
       "      <td>Skilled Manual</td>\n",
       "      <td>1</td>\n",
       "      <td>1</td>\n",
       "      <td>2-5 Miles</td>\n",
       "    </tr>\n",
       "    <tr>\n",
       "      <th>18481</th>\n",
       "      <td>24634</td>\n",
       "      <td>20775</td>\n",
       "      <td>NaN</td>\n",
       "      <td>Crystal</td>\n",
       "      <td>S</td>\n",
       "      <td>He</td>\n",
       "      <td>NaN</td>\n",
       "      <td>112.58</td>\n",
       "      <td>2004-04-12</td>\n",
       "      <td>1940-04-05</td>\n",
       "      <td>M</td>\n",
       "      <td>50001-75000</td>\n",
       "      <td>F</td>\n",
       "      <td>3</td>\n",
       "      <td>0</td>\n",
       "      <td>Bachelors</td>\n",
       "      <td>Management</td>\n",
       "      <td>1</td>\n",
       "      <td>2</td>\n",
       "      <td>10+ Miles</td>\n",
       "    </tr>\n",
       "    <tr>\n",
       "      <th>18482</th>\n",
       "      <td>21127</td>\n",
       "      <td>20776</td>\n",
       "      <td>NaN</td>\n",
       "      <td>Crystal</td>\n",
       "      <td>NaN</td>\n",
       "      <td>Zheng</td>\n",
       "      <td>NaN</td>\n",
       "      <td>-9.51</td>\n",
       "      <td>2004-02-15</td>\n",
       "      <td>1975-07-25</td>\n",
       "      <td>S</td>\n",
       "      <td>25001-50000</td>\n",
       "      <td>F</td>\n",
       "      <td>0</td>\n",
       "      <td>0</td>\n",
       "      <td>Partial College</td>\n",
       "      <td>Clerical</td>\n",
       "      <td>1</td>\n",
       "      <td>1</td>\n",
       "      <td>2-5 Miles</td>\n",
       "    </tr>\n",
       "    <tr>\n",
       "      <th>18483</th>\n",
       "      <td>27980</td>\n",
       "      <td>20777</td>\n",
       "      <td>NaN</td>\n",
       "      <td>Crystal</td>\n",
       "      <td>NaN</td>\n",
       "      <td>Hu</td>\n",
       "      <td>NaN</td>\n",
       "      <td>-19.5</td>\n",
       "      <td>2003-11-17</td>\n",
       "      <td>1971-05-05</td>\n",
       "      <td>M</td>\n",
       "      <td>75001-100000</td>\n",
       "      <td>F</td>\n",
       "      <td>0</td>\n",
       "      <td>0</td>\n",
       "      <td>Bachelors</td>\n",
       "      <td>Professional</td>\n",
       "      <td>0</td>\n",
       "      <td>4</td>\n",
       "      <td>10+ Miles</td>\n",
       "    </tr>\n",
       "  </tbody>\n",
       "</table>\n",
       "</div>"
      ],
      "text/plain": [
       "       CustomerID  BusinessEntityID Title FirstName MiddleName    LastName  \\\n",
       "18479       19379             20773   NaN   Crystal        NaN         Guo   \n",
       "18480       13933             20774   NaN  Isabella          F  Richardson   \n",
       "18481       24634             20775   NaN   Crystal          S          He   \n",
       "18482       21127             20776   NaN   Crystal        NaN       Zheng   \n",
       "18483       27980             20777   NaN   Crystal        NaN          Hu   \n",
       "\n",
       "      Suffix TotalPurchaseYTD DateFirstPurchase   BirthDate MaritalStatus  \\\n",
       "18479    NaN            54.48        2004-04-19  1974-11-23             S   \n",
       "18480    NaN           -13.01        2003-08-30  1961-06-12             M   \n",
       "18481    NaN           112.58        2004-04-12  1940-04-05             M   \n",
       "18482    NaN            -9.51        2004-02-15  1975-07-25             S   \n",
       "18483    NaN            -19.5        2003-11-17  1971-05-05             M   \n",
       "\n",
       "       YearlyIncome Gender  TotalChildren NumberChildrenAtHome  \\\n",
       "18479       0-25000      F              0                    0   \n",
       "18480   50001-75000      F              1                    0   \n",
       "18481   50001-75000      F              3                    0   \n",
       "18482   25001-50000      F              0                    0   \n",
       "18483  75001-100000      F              0                    0   \n",
       "\n",
       "                 Education       Ocupation  HomeOwnerFlag NumberCarsOwned  \\\n",
       "18479  Partial High School          Manual              1               2   \n",
       "18480      Partial College  Skilled Manual              1               1   \n",
       "18481            Bachelors      Management              1               2   \n",
       "18482      Partial College        Clerical              1               1   \n",
       "18483            Bachelors    Professional              0               4   \n",
       "\n",
       "      CommuteDistance  \n",
       "18479       0-1 Miles  \n",
       "18480       2-5 Miles  \n",
       "18481       10+ Miles  \n",
       "18482       2-5 Miles  \n",
       "18483       10+ Miles  "
      ]
     },
     "execution_count": 6,
     "metadata": {},
     "output_type": "execute_result"
    }
   ],
   "source": [
    "df.tail()"
   ]
  },
  {
   "cell_type": "code",
   "execution_count": 7,
   "id": "075daa62",
   "metadata": {},
   "outputs": [
    {
     "data": {
      "text/html": [
       "<div>\n",
       "<style scoped>\n",
       "    .dataframe tbody tr th:only-of-type {\n",
       "        vertical-align: middle;\n",
       "    }\n",
       "\n",
       "    .dataframe tbody tr th {\n",
       "        vertical-align: top;\n",
       "    }\n",
       "\n",
       "    .dataframe thead th {\n",
       "        text-align: right;\n",
       "    }\n",
       "</style>\n",
       "<table border=\"1\" class=\"dataframe\">\n",
       "  <thead>\n",
       "    <tr style=\"text-align: right;\">\n",
       "      <th></th>\n",
       "      <th>CustomerID</th>\n",
       "      <th>BusinessEntityID</th>\n",
       "      <th>Title</th>\n",
       "      <th>FirstName</th>\n",
       "      <th>MiddleName</th>\n",
       "      <th>LastName</th>\n",
       "      <th>Suffix</th>\n",
       "      <th>TotalPurchaseYTD</th>\n",
       "      <th>DateFirstPurchase</th>\n",
       "      <th>BirthDate</th>\n",
       "      <th>MaritalStatus</th>\n",
       "      <th>YearlyIncome</th>\n",
       "      <th>Gender</th>\n",
       "      <th>TotalChildren</th>\n",
       "      <th>NumberChildrenAtHome</th>\n",
       "      <th>Education</th>\n",
       "      <th>Ocupation</th>\n",
       "      <th>HomeOwnerFlag</th>\n",
       "      <th>NumberCarsOwned</th>\n",
       "      <th>CommuteDistance</th>\n",
       "    </tr>\n",
       "  </thead>\n",
       "  <tbody>\n",
       "    <tr>\n",
       "      <th>0</th>\n",
       "      <td>11377</td>\n",
       "      <td>1699</td>\n",
       "      <td>Mr.</td>\n",
       "      <td>David</td>\n",
       "      <td>R.</td>\n",
       "      <td>Robinett</td>\n",
       "      <td>NaN</td>\n",
       "      <td>-16.01</td>\n",
       "      <td>2003-09-01</td>\n",
       "      <td>1961-02-23</td>\n",
       "      <td>M</td>\n",
       "      <td>25001-50000</td>\n",
       "      <td>M</td>\n",
       "      <td>4</td>\n",
       "      <td>0</td>\n",
       "      <td>Graduate Degree</td>\n",
       "      <td>Clerical</td>\n",
       "      <td>1</td>\n",
       "      <td>0</td>\n",
       "      <td>0-1 Miles</td>\n",
       "    </tr>\n",
       "    <tr>\n",
       "      <th>1</th>\n",
       "      <td>11913</td>\n",
       "      <td>1700</td>\n",
       "      <td>Ms.</td>\n",
       "      <td>Rebecca</td>\n",
       "      <td>A.</td>\n",
       "      <td>Robinson</td>\n",
       "      <td>NaN</td>\n",
       "      <td>-4</td>\n",
       "      <td>2004-06-05</td>\n",
       "      <td>1965-06-11</td>\n",
       "      <td>M</td>\n",
       "      <td>50001-75000</td>\n",
       "      <td>F</td>\n",
       "      <td>3</td>\n",
       "      <td>3</td>\n",
       "      <td>Bachelors</td>\n",
       "      <td>Professional</td>\n",
       "      <td>1</td>\n",
       "      <td>1</td>\n",
       "      <td>5-10 Miles</td>\n",
       "    </tr>\n",
       "    <tr>\n",
       "      <th>2</th>\n",
       "      <td>11952</td>\n",
       "      <td>1701</td>\n",
       "      <td>Ms.</td>\n",
       "      <td>Dorothy</td>\n",
       "      <td>B.</td>\n",
       "      <td>Robinson</td>\n",
       "      <td>NaN</td>\n",
       "      <td>4730.04</td>\n",
       "      <td>2002-04-07</td>\n",
       "      <td>1954-09-23</td>\n",
       "      <td>S</td>\n",
       "      <td>75001-100000</td>\n",
       "      <td>M</td>\n",
       "      <td>2</td>\n",
       "      <td>0</td>\n",
       "      <td>Partial College</td>\n",
       "      <td>Skilled Manual</td>\n",
       "      <td>0</td>\n",
       "      <td>2</td>\n",
       "      <td>1-2 Miles</td>\n",
       "    </tr>\n",
       "    <tr>\n",
       "      <th>3</th>\n",
       "      <td>20164</td>\n",
       "      <td>1702</td>\n",
       "      <td>Ms.</td>\n",
       "      <td>Carol Ann</td>\n",
       "      <td>F.</td>\n",
       "      <td>Rockne</td>\n",
       "      <td>NaN</td>\n",
       "      <td>2435.4018</td>\n",
       "      <td>2001-10-27</td>\n",
       "      <td>1943-07-15</td>\n",
       "      <td>M</td>\n",
       "      <td>25001-50000</td>\n",
       "      <td>M</td>\n",
       "      <td>1</td>\n",
       "      <td>0</td>\n",
       "      <td>Bachelors</td>\n",
       "      <td>Clerical</td>\n",
       "      <td>1</td>\n",
       "      <td>0</td>\n",
       "      <td>0-1 Miles</td>\n",
       "    </tr>\n",
       "    <tr>\n",
       "      <th>4</th>\n",
       "      <td>20211</td>\n",
       "      <td>1703</td>\n",
       "      <td>Mr.</td>\n",
       "      <td>Scott</td>\n",
       "      <td>M.</td>\n",
       "      <td>Rodgers</td>\n",
       "      <td>NaN</td>\n",
       "      <td>1647</td>\n",
       "      <td>2002-04-18</td>\n",
       "      <td>1968-05-15</td>\n",
       "      <td>M</td>\n",
       "      <td>50001-75000</td>\n",
       "      <td>M</td>\n",
       "      <td>2</td>\n",
       "      <td>2</td>\n",
       "      <td>Bachelors</td>\n",
       "      <td>Professional</td>\n",
       "      <td>1</td>\n",
       "      <td>1</td>\n",
       "      <td>2-5 Miles</td>\n",
       "    </tr>\n",
       "  </tbody>\n",
       "</table>\n",
       "</div>"
      ],
      "text/plain": [
       "   CustomerID  BusinessEntityID Title  FirstName MiddleName  LastName Suffix  \\\n",
       "0       11377              1699   Mr.      David         R.  Robinett    NaN   \n",
       "1       11913              1700   Ms.    Rebecca         A.  Robinson    NaN   \n",
       "2       11952              1701   Ms.    Dorothy         B.  Robinson    NaN   \n",
       "3       20164              1702   Ms.  Carol Ann         F.    Rockne    NaN   \n",
       "4       20211              1703   Mr.      Scott         M.   Rodgers    NaN   \n",
       "\n",
       "  TotalPurchaseYTD DateFirstPurchase   BirthDate MaritalStatus  YearlyIncome  \\\n",
       "0           -16.01        2003-09-01  1961-02-23             M   25001-50000   \n",
       "1               -4        2004-06-05  1965-06-11             M   50001-75000   \n",
       "2          4730.04        2002-04-07  1954-09-23             S  75001-100000   \n",
       "3        2435.4018        2001-10-27  1943-07-15             M   25001-50000   \n",
       "4             1647        2002-04-18  1968-05-15             M   50001-75000   \n",
       "\n",
       "  Gender  TotalChildren NumberChildrenAtHome        Education       Ocupation  \\\n",
       "0      M              4                    0  Graduate Degree        Clerical   \n",
       "1      F              3                    3        Bachelors    Professional   \n",
       "2      M              2                    0  Partial College  Skilled Manual   \n",
       "3      M              1                    0        Bachelors        Clerical   \n",
       "4      M              2                    2        Bachelors    Professional   \n",
       "\n",
       "   HomeOwnerFlag NumberCarsOwned CommuteDistance  \n",
       "0              1               0       0-1 Miles  \n",
       "1              1               1      5-10 Miles  \n",
       "2              0               2       1-2 Miles  \n",
       "3              1               0       0-1 Miles  \n",
       "4              1               1       2-5 Miles  "
      ]
     },
     "execution_count": 7,
     "metadata": {},
     "output_type": "execute_result"
    }
   ],
   "source": [
    "df.head()"
   ]
  },
  {
   "cell_type": "code",
   "execution_count": 8,
   "id": "dfb324a4",
   "metadata": {},
   "outputs": [
    {
     "name": "stdout",
     "output_type": "stream",
     "text": [
      "<class 'pandas.core.frame.DataFrame'>\n",
      "RangeIndex: 18484 entries, 0 to 18483\n",
      "Data columns (total 20 columns):\n",
      " #   Column                Non-Null Count  Dtype \n",
      "---  ------                --------------  ----- \n",
      " 0   CustomerID            18484 non-null  int64 \n",
      " 1   BusinessEntityID      18484 non-null  int64 \n",
      " 2   Title                 101 non-null    object\n",
      " 3   FirstName             18484 non-null  object\n",
      " 4   MiddleName            10654 non-null  object\n",
      " 5   LastName              18484 non-null  object\n",
      " 6   Suffix                6 non-null      object\n",
      " 7   TotalPurchaseYTD      18484 non-null  object\n",
      " 8   DateFirstPurchase     18484 non-null  object\n",
      " 9   BirthDate             18484 non-null  object\n",
      " 10  MaritalStatus         18484 non-null  object\n",
      " 11  YearlyIncome          18484 non-null  object\n",
      " 12  Gender                18484 non-null  object\n",
      " 13  TotalChildren         18484 non-null  int64 \n",
      " 14  NumberChildrenAtHome  18484 non-null  object\n",
      " 15  Education             18484 non-null  object\n",
      " 16  Ocupation             18484 non-null  object\n",
      " 17  HomeOwnerFlag         18484 non-null  int64 \n",
      " 18  NumberCarsOwned       18484 non-null  object\n",
      " 19  CommuteDistance       18481 non-null  object\n",
      "dtypes: int64(4), object(16)\n",
      "memory usage: 2.8+ MB\n"
     ]
    }
   ],
   "source": [
    "df.info()"
   ]
  },
  {
   "cell_type": "markdown",
   "id": "d3862a1a",
   "metadata": {},
   "source": [
    "## DATA PREPARATION"
   ]
  },
  {
   "cell_type": "raw",
   "id": "9b2e96b2",
   "metadata": {},
   "source": [
    "Data Provided was in CSV Format with 18484 rows and 20 columns. Some columns contains missing data(Title, Middle Name, Suffix,CommuteDistance etc). The column Title and gender are not matching in the given dataset.Noticed 3 records are miss placed in the dataset(CustomerID 11903,15977,23707 etc) and need to be shifted to right from certain column. CustomerID and BusinessEntity Id are unique for each customers.Some Ambigious values in Gender Field determined and need to be replaced .NumberChildrenAthome column has a typo and need to be replaced. In the given dataset, data types of several records need to be converted to the right datatype.DateFurchaseDate is between 2001 to 2004."
   ]
  },
  {
   "cell_type": "code",
   "execution_count": 9,
   "id": "41e549a4",
   "metadata": {},
   "outputs": [
    {
     "data": {
      "text/html": [
       "<div>\n",
       "<style scoped>\n",
       "    .dataframe tbody tr th:only-of-type {\n",
       "        vertical-align: middle;\n",
       "    }\n",
       "\n",
       "    .dataframe tbody tr th {\n",
       "        vertical-align: top;\n",
       "    }\n",
       "\n",
       "    .dataframe thead th {\n",
       "        text-align: right;\n",
       "    }\n",
       "</style>\n",
       "<table border=\"1\" class=\"dataframe\">\n",
       "  <thead>\n",
       "    <tr style=\"text-align: right;\">\n",
       "      <th></th>\n",
       "      <th>CustomerID</th>\n",
       "      <th>BusinessEntityID</th>\n",
       "      <th>Title</th>\n",
       "      <th>FirstName</th>\n",
       "      <th>MiddleName</th>\n",
       "      <th>LastName</th>\n",
       "      <th>Suffix</th>\n",
       "      <th>TotalPurchaseYTD</th>\n",
       "      <th>DateFirstPurchase</th>\n",
       "      <th>BirthDate</th>\n",
       "      <th>MaritalStatus</th>\n",
       "      <th>YearlyIncome</th>\n",
       "      <th>Gender</th>\n",
       "      <th>TotalChildren</th>\n",
       "      <th>NumberChildrenAtHome</th>\n",
       "      <th>Education</th>\n",
       "      <th>Ocupation</th>\n",
       "      <th>HomeOwnerFlag</th>\n",
       "      <th>NumberCarsOwned</th>\n",
       "      <th>CommuteDistance</th>\n",
       "    </tr>\n",
       "  </thead>\n",
       "  <tbody>\n",
       "    <tr>\n",
       "      <th>0</th>\n",
       "      <td>11377</td>\n",
       "      <td>1699</td>\n",
       "      <td>Mr.</td>\n",
       "      <td>David</td>\n",
       "      <td>R.</td>\n",
       "      <td>Robinett</td>\n",
       "      <td>NaN</td>\n",
       "      <td>-16.01</td>\n",
       "      <td>2003-09-01</td>\n",
       "      <td>1961-02-23</td>\n",
       "      <td>M</td>\n",
       "      <td>25001-50000</td>\n",
       "      <td>M</td>\n",
       "      <td>4</td>\n",
       "      <td>0</td>\n",
       "      <td>Graduate Degree</td>\n",
       "      <td>Clerical</td>\n",
       "      <td>1</td>\n",
       "      <td>0</td>\n",
       "      <td>0-1 Miles</td>\n",
       "    </tr>\n",
       "    <tr>\n",
       "      <th>1</th>\n",
       "      <td>11913</td>\n",
       "      <td>1700</td>\n",
       "      <td>Ms.</td>\n",
       "      <td>Rebecca</td>\n",
       "      <td>A.</td>\n",
       "      <td>Robinson</td>\n",
       "      <td>NaN</td>\n",
       "      <td>-4</td>\n",
       "      <td>2004-06-05</td>\n",
       "      <td>1965-06-11</td>\n",
       "      <td>M</td>\n",
       "      <td>50001-75000</td>\n",
       "      <td>F</td>\n",
       "      <td>3</td>\n",
       "      <td>3</td>\n",
       "      <td>Bachelors</td>\n",
       "      <td>Professional</td>\n",
       "      <td>1</td>\n",
       "      <td>1</td>\n",
       "      <td>5-10 Miles</td>\n",
       "    </tr>\n",
       "    <tr>\n",
       "      <th>2</th>\n",
       "      <td>11952</td>\n",
       "      <td>1701</td>\n",
       "      <td>Ms.</td>\n",
       "      <td>Dorothy</td>\n",
       "      <td>B.</td>\n",
       "      <td>Robinson</td>\n",
       "      <td>NaN</td>\n",
       "      <td>4730.04</td>\n",
       "      <td>2002-04-07</td>\n",
       "      <td>1954-09-23</td>\n",
       "      <td>S</td>\n",
       "      <td>75001-100000</td>\n",
       "      <td>M</td>\n",
       "      <td>2</td>\n",
       "      <td>0</td>\n",
       "      <td>Partial College</td>\n",
       "      <td>Skilled Manual</td>\n",
       "      <td>0</td>\n",
       "      <td>2</td>\n",
       "      <td>1-2 Miles</td>\n",
       "    </tr>\n",
       "    <tr>\n",
       "      <th>3</th>\n",
       "      <td>20164</td>\n",
       "      <td>1702</td>\n",
       "      <td>Ms.</td>\n",
       "      <td>Carol Ann</td>\n",
       "      <td>F.</td>\n",
       "      <td>Rockne</td>\n",
       "      <td>NaN</td>\n",
       "      <td>2435.4018</td>\n",
       "      <td>2001-10-27</td>\n",
       "      <td>1943-07-15</td>\n",
       "      <td>M</td>\n",
       "      <td>25001-50000</td>\n",
       "      <td>M</td>\n",
       "      <td>1</td>\n",
       "      <td>0</td>\n",
       "      <td>Bachelors</td>\n",
       "      <td>Clerical</td>\n",
       "      <td>1</td>\n",
       "      <td>0</td>\n",
       "      <td>0-1 Miles</td>\n",
       "    </tr>\n",
       "    <tr>\n",
       "      <th>4</th>\n",
       "      <td>20211</td>\n",
       "      <td>1703</td>\n",
       "      <td>Mr.</td>\n",
       "      <td>Scott</td>\n",
       "      <td>M.</td>\n",
       "      <td>Rodgers</td>\n",
       "      <td>NaN</td>\n",
       "      <td>1647</td>\n",
       "      <td>2002-04-18</td>\n",
       "      <td>1968-05-15</td>\n",
       "      <td>M</td>\n",
       "      <td>50001-75000</td>\n",
       "      <td>M</td>\n",
       "      <td>2</td>\n",
       "      <td>2</td>\n",
       "      <td>Bachelors</td>\n",
       "      <td>Professional</td>\n",
       "      <td>1</td>\n",
       "      <td>1</td>\n",
       "      <td>2-5 Miles</td>\n",
       "    </tr>\n",
       "    <tr>\n",
       "      <th>...</th>\n",
       "      <td>...</td>\n",
       "      <td>...</td>\n",
       "      <td>...</td>\n",
       "      <td>...</td>\n",
       "      <td>...</td>\n",
       "      <td>...</td>\n",
       "      <td>...</td>\n",
       "      <td>...</td>\n",
       "      <td>...</td>\n",
       "      <td>...</td>\n",
       "      <td>...</td>\n",
       "      <td>...</td>\n",
       "      <td>...</td>\n",
       "      <td>...</td>\n",
       "      <td>...</td>\n",
       "      <td>...</td>\n",
       "      <td>...</td>\n",
       "      <td>...</td>\n",
       "      <td>...</td>\n",
       "      <td>...</td>\n",
       "    </tr>\n",
       "    <tr>\n",
       "      <th>18479</th>\n",
       "      <td>19379</td>\n",
       "      <td>20773</td>\n",
       "      <td>NaN</td>\n",
       "      <td>Crystal</td>\n",
       "      <td>NaN</td>\n",
       "      <td>Guo</td>\n",
       "      <td>NaN</td>\n",
       "      <td>54.48</td>\n",
       "      <td>2004-04-19</td>\n",
       "      <td>1974-11-23</td>\n",
       "      <td>S</td>\n",
       "      <td>0-25000</td>\n",
       "      <td>F</td>\n",
       "      <td>0</td>\n",
       "      <td>0</td>\n",
       "      <td>Partial High School</td>\n",
       "      <td>Manual</td>\n",
       "      <td>1</td>\n",
       "      <td>2</td>\n",
       "      <td>0-1 Miles</td>\n",
       "    </tr>\n",
       "    <tr>\n",
       "      <th>18480</th>\n",
       "      <td>13933</td>\n",
       "      <td>20774</td>\n",
       "      <td>NaN</td>\n",
       "      <td>Isabella</td>\n",
       "      <td>F</td>\n",
       "      <td>Richardson</td>\n",
       "      <td>NaN</td>\n",
       "      <td>-13.01</td>\n",
       "      <td>2003-08-30</td>\n",
       "      <td>1961-06-12</td>\n",
       "      <td>M</td>\n",
       "      <td>50001-75000</td>\n",
       "      <td>F</td>\n",
       "      <td>1</td>\n",
       "      <td>0</td>\n",
       "      <td>Partial College</td>\n",
       "      <td>Skilled Manual</td>\n",
       "      <td>1</td>\n",
       "      <td>1</td>\n",
       "      <td>2-5 Miles</td>\n",
       "    </tr>\n",
       "    <tr>\n",
       "      <th>18481</th>\n",
       "      <td>24634</td>\n",
       "      <td>20775</td>\n",
       "      <td>NaN</td>\n",
       "      <td>Crystal</td>\n",
       "      <td>S</td>\n",
       "      <td>He</td>\n",
       "      <td>NaN</td>\n",
       "      <td>112.58</td>\n",
       "      <td>2004-04-12</td>\n",
       "      <td>1940-04-05</td>\n",
       "      <td>M</td>\n",
       "      <td>50001-75000</td>\n",
       "      <td>F</td>\n",
       "      <td>3</td>\n",
       "      <td>0</td>\n",
       "      <td>Bachelors</td>\n",
       "      <td>Management</td>\n",
       "      <td>1</td>\n",
       "      <td>2</td>\n",
       "      <td>10+ Miles</td>\n",
       "    </tr>\n",
       "    <tr>\n",
       "      <th>18482</th>\n",
       "      <td>21127</td>\n",
       "      <td>20776</td>\n",
       "      <td>NaN</td>\n",
       "      <td>Crystal</td>\n",
       "      <td>NaN</td>\n",
       "      <td>Zheng</td>\n",
       "      <td>NaN</td>\n",
       "      <td>-9.51</td>\n",
       "      <td>2004-02-15</td>\n",
       "      <td>1975-07-25</td>\n",
       "      <td>S</td>\n",
       "      <td>25001-50000</td>\n",
       "      <td>F</td>\n",
       "      <td>0</td>\n",
       "      <td>0</td>\n",
       "      <td>Partial College</td>\n",
       "      <td>Clerical</td>\n",
       "      <td>1</td>\n",
       "      <td>1</td>\n",
       "      <td>2-5 Miles</td>\n",
       "    </tr>\n",
       "    <tr>\n",
       "      <th>18483</th>\n",
       "      <td>27980</td>\n",
       "      <td>20777</td>\n",
       "      <td>NaN</td>\n",
       "      <td>Crystal</td>\n",
       "      <td>NaN</td>\n",
       "      <td>Hu</td>\n",
       "      <td>NaN</td>\n",
       "      <td>-19.5</td>\n",
       "      <td>2003-11-17</td>\n",
       "      <td>1971-05-05</td>\n",
       "      <td>M</td>\n",
       "      <td>75001-100000</td>\n",
       "      <td>F</td>\n",
       "      <td>0</td>\n",
       "      <td>0</td>\n",
       "      <td>Bachelors</td>\n",
       "      <td>Professional</td>\n",
       "      <td>0</td>\n",
       "      <td>4</td>\n",
       "      <td>10+ Miles</td>\n",
       "    </tr>\n",
       "  </tbody>\n",
       "</table>\n",
       "<p>18484 rows × 20 columns</p>\n",
       "</div>"
      ],
      "text/plain": [
       "       CustomerID  BusinessEntityID Title  FirstName MiddleName    LastName  \\\n",
       "0           11377              1699   Mr.      David         R.    Robinett   \n",
       "1           11913              1700   Ms.    Rebecca         A.    Robinson   \n",
       "2           11952              1701   Ms.    Dorothy         B.    Robinson   \n",
       "3           20164              1702   Ms.  Carol Ann         F.      Rockne   \n",
       "4           20211              1703   Mr.      Scott         M.     Rodgers   \n",
       "...           ...               ...   ...        ...        ...         ...   \n",
       "18479       19379             20773   NaN    Crystal        NaN         Guo   \n",
       "18480       13933             20774   NaN   Isabella          F  Richardson   \n",
       "18481       24634             20775   NaN    Crystal          S          He   \n",
       "18482       21127             20776   NaN    Crystal        NaN       Zheng   \n",
       "18483       27980             20777   NaN    Crystal        NaN          Hu   \n",
       "\n",
       "      Suffix TotalPurchaseYTD DateFirstPurchase   BirthDate MaritalStatus  \\\n",
       "0        NaN           -16.01        2003-09-01  1961-02-23             M   \n",
       "1        NaN               -4        2004-06-05  1965-06-11             M   \n",
       "2        NaN          4730.04        2002-04-07  1954-09-23             S   \n",
       "3        NaN        2435.4018        2001-10-27  1943-07-15             M   \n",
       "4        NaN             1647        2002-04-18  1968-05-15             M   \n",
       "...      ...              ...               ...         ...           ...   \n",
       "18479    NaN            54.48        2004-04-19  1974-11-23             S   \n",
       "18480    NaN           -13.01        2003-08-30  1961-06-12             M   \n",
       "18481    NaN           112.58        2004-04-12  1940-04-05             M   \n",
       "18482    NaN            -9.51        2004-02-15  1975-07-25             S   \n",
       "18483    NaN            -19.5        2003-11-17  1971-05-05             M   \n",
       "\n",
       "       YearlyIncome Gender  TotalChildren NumberChildrenAtHome  \\\n",
       "0       25001-50000      M              4                    0   \n",
       "1       50001-75000      F              3                    3   \n",
       "2      75001-100000      M              2                    0   \n",
       "3       25001-50000      M              1                    0   \n",
       "4       50001-75000      M              2                    2   \n",
       "...             ...    ...            ...                  ...   \n",
       "18479       0-25000      F              0                    0   \n",
       "18480   50001-75000      F              1                    0   \n",
       "18481   50001-75000      F              3                    0   \n",
       "18482   25001-50000      F              0                    0   \n",
       "18483  75001-100000      F              0                    0   \n",
       "\n",
       "                 Education       Ocupation  HomeOwnerFlag NumberCarsOwned  \\\n",
       "0          Graduate Degree        Clerical              1               0   \n",
       "1                Bachelors    Professional              1               1   \n",
       "2          Partial College  Skilled Manual              0               2   \n",
       "3                Bachelors        Clerical              1               0   \n",
       "4                Bachelors    Professional              1               1   \n",
       "...                    ...             ...            ...             ...   \n",
       "18479  Partial High School          Manual              1               2   \n",
       "18480      Partial College  Skilled Manual              1               1   \n",
       "18481            Bachelors      Management              1               2   \n",
       "18482      Partial College        Clerical              1               1   \n",
       "18483            Bachelors    Professional              0               4   \n",
       "\n",
       "      CommuteDistance  \n",
       "0           0-1 Miles  \n",
       "1          5-10 Miles  \n",
       "2           1-2 Miles  \n",
       "3           0-1 Miles  \n",
       "4           2-5 Miles  \n",
       "...               ...  \n",
       "18479       0-1 Miles  \n",
       "18480       2-5 Miles  \n",
       "18481       10+ Miles  \n",
       "18482       2-5 Miles  \n",
       "18483       10+ Miles  \n",
       "\n",
       "[18484 rows x 20 columns]"
      ]
     },
     "execution_count": 9,
     "metadata": {},
     "output_type": "execute_result"
    }
   ],
   "source": [
    "df"
   ]
  },
  {
   "cell_type": "code",
   "execution_count": 10,
   "id": "f0a1bed2",
   "metadata": {},
   "outputs": [],
   "source": [
    "#Noticed Difference in the column Title and Gender. \n",
    "#Assumed the data in 'Gender' is more accurate and deleted column 'Title'"
   ]
  },
  {
   "cell_type": "code",
   "execution_count": 11,
   "id": "01fe9d68",
   "metadata": {},
   "outputs": [
    {
     "data": {
      "text/plain": [
       "0        Mr.\n",
       "1        Ms.\n",
       "2        Ms.\n",
       "3        Ms.\n",
       "4        Mr.\n",
       "        ... \n",
       "18479    NaN\n",
       "18480    NaN\n",
       "18481    NaN\n",
       "18482    NaN\n",
       "18483    NaN\n",
       "Name: Title, Length: 18484, dtype: object"
      ]
     },
     "execution_count": 11,
     "metadata": {},
     "output_type": "execute_result"
    }
   ],
   "source": [
    "df.pop('Title')"
   ]
  },
  {
   "cell_type": "code",
   "execution_count": 12,
   "id": "52bd0cbc",
   "metadata": {},
   "outputs": [],
   "source": [
    "\n",
    "#  Checking Columns after deleting one column"
   ]
  },
  {
   "cell_type": "code",
   "execution_count": 13,
   "id": "bbcf5bfa",
   "metadata": {},
   "outputs": [
    {
     "data": {
      "text/plain": [
       "['CustomerID',\n",
       " 'BusinessEntityID',\n",
       " 'FirstName',\n",
       " 'MiddleName',\n",
       " 'LastName',\n",
       " 'Suffix',\n",
       " 'TotalPurchaseYTD',\n",
       " 'DateFirstPurchase',\n",
       " 'BirthDate',\n",
       " 'MaritalStatus',\n",
       " 'YearlyIncome',\n",
       " 'Gender',\n",
       " 'TotalChildren',\n",
       " 'NumberChildrenAtHome',\n",
       " 'Education',\n",
       " 'Ocupation',\n",
       " 'HomeOwnerFlag',\n",
       " 'NumberCarsOwned',\n",
       " 'CommuteDistance']"
      ]
     },
     "execution_count": 13,
     "metadata": {},
     "output_type": "execute_result"
    }
   ],
   "source": [
    "list(df.columns)"
   ]
  },
  {
   "cell_type": "code",
   "execution_count": 14,
   "id": "aa6f9313",
   "metadata": {},
   "outputs": [],
   "source": [
    "#Declaring another dataframe by copy all contents"
   ]
  },
  {
   "cell_type": "code",
   "execution_count": 15,
   "id": "c46c2bbb",
   "metadata": {},
   "outputs": [],
   "source": [
    "df1=df"
   ]
  },
  {
   "cell_type": "code",
   "execution_count": 16,
   "id": "3e3aeba7",
   "metadata": {},
   "outputs": [],
   "source": [
    "#Identified index values of Null fields in CommuteDistance Column"
   ]
  },
  {
   "cell_type": "code",
   "execution_count": 17,
   "id": "0617d83d",
   "metadata": {},
   "outputs": [
    {
     "data": {
      "text/plain": [
       "[2331, 8762, 16118]"
      ]
     },
     "execution_count": 17,
     "metadata": {},
     "output_type": "execute_result"
    }
   ],
   "source": [
    "rows_to_shift=df1[df1['CommuteDistance'].isnull()].index.tolist()\n",
    "rows_to_shift"
   ]
  },
  {
   "cell_type": "code",
   "execution_count": 18,
   "id": "5337d783",
   "metadata": {},
   "outputs": [],
   "source": [
    "#Located column to shift cells to the right"
   ]
  },
  {
   "cell_type": "code",
   "execution_count": 19,
   "id": "6a33e74a",
   "metadata": {},
   "outputs": [
    {
     "data": {
      "text/html": [
       "<div>\n",
       "<style scoped>\n",
       "    .dataframe tbody tr th:only-of-type {\n",
       "        vertical-align: middle;\n",
       "    }\n",
       "\n",
       "    .dataframe tbody tr th {\n",
       "        vertical-align: top;\n",
       "    }\n",
       "\n",
       "    .dataframe thead th {\n",
       "        text-align: right;\n",
       "    }\n",
       "</style>\n",
       "<table border=\"1\" class=\"dataframe\">\n",
       "  <thead>\n",
       "    <tr style=\"text-align: right;\">\n",
       "      <th></th>\n",
       "      <th>Suffix</th>\n",
       "      <th>TotalPurchaseYTD</th>\n",
       "      <th>DateFirstPurchase</th>\n",
       "      <th>BirthDate</th>\n",
       "      <th>MaritalStatus</th>\n",
       "      <th>YearlyIncome</th>\n",
       "      <th>Gender</th>\n",
       "      <th>TotalChildren</th>\n",
       "      <th>NumberChildrenAtHome</th>\n",
       "      <th>Education</th>\n",
       "      <th>Ocupation</th>\n",
       "      <th>HomeOwnerFlag</th>\n",
       "      <th>NumberCarsOwned</th>\n",
       "      <th>CommuteDistance</th>\n",
       "    </tr>\n",
       "  </thead>\n",
       "  <tbody>\n",
       "    <tr>\n",
       "      <th>2331</th>\n",
       "      <td>-990.92</td>\n",
       "      <td>2002-03-24</td>\n",
       "      <td>1969-04-27</td>\n",
       "      <td>S</td>\n",
       "      <td>greater than 100000</td>\n",
       "      <td>F</td>\n",
       "      <td>1</td>\n",
       "      <td>0</td>\n",
       "      <td>Graduate Degree</td>\n",
       "      <td>Management</td>\n",
       "      <td>1</td>\n",
       "      <td>0</td>\n",
       "      <td>0-1 Miles</td>\n",
       "      <td>NaN</td>\n",
       "    </tr>\n",
       "    <tr>\n",
       "      <th>8762</th>\n",
       "      <td>-30</td>\n",
       "      <td>2004-04-30</td>\n",
       "      <td>1960-03-15</td>\n",
       "      <td>M</td>\n",
       "      <td>75001-100000</td>\n",
       "      <td>F</td>\n",
       "      <td>4</td>\n",
       "      <td>3</td>\n",
       "      <td>High School</td>\n",
       "      <td>Professional</td>\n",
       "      <td>1</td>\n",
       "      <td>3</td>\n",
       "      <td>1-2 Miles</td>\n",
       "      <td>NaN</td>\n",
       "    </tr>\n",
       "    <tr>\n",
       "      <th>16118</th>\n",
       "      <td>557.49</td>\n",
       "      <td>2004-05-22</td>\n",
       "      <td>1946-07-18</td>\n",
       "      <td>S</td>\n",
       "      <td>50001-75000</td>\n",
       "      <td>M</td>\n",
       "      <td>5</td>\n",
       "      <td>0</td>\n",
       "      <td>Bachelors</td>\n",
       "      <td>Management</td>\n",
       "      <td>1</td>\n",
       "      <td>3</td>\n",
       "      <td>10+ Miles</td>\n",
       "      <td>NaN</td>\n",
       "    </tr>\n",
       "  </tbody>\n",
       "</table>\n",
       "</div>"
      ],
      "text/plain": [
       "        Suffix TotalPurchaseYTD DateFirstPurchase BirthDate  \\\n",
       "2331   -990.92       2002-03-24        1969-04-27         S   \n",
       "8762       -30       2004-04-30        1960-03-15         M   \n",
       "16118   557.49       2004-05-22        1946-07-18         S   \n",
       "\n",
       "             MaritalStatus YearlyIncome Gender  TotalChildren  \\\n",
       "2331   greater than 100000            F      1              0   \n",
       "8762          75001-100000            F      4              3   \n",
       "16118          50001-75000            M      5              0   \n",
       "\n",
       "      NumberChildrenAtHome     Education Ocupation  HomeOwnerFlag  \\\n",
       "2331       Graduate Degree    Management         1              0   \n",
       "8762           High School  Professional         1              3   \n",
       "16118            Bachelors    Management         1              3   \n",
       "\n",
       "      NumberCarsOwned CommuteDistance  \n",
       "2331        0-1 Miles             NaN  \n",
       "8762        1-2 Miles             NaN  \n",
       "16118       10+ Miles             NaN  "
      ]
     },
     "execution_count": 19,
     "metadata": {},
     "output_type": "execute_result"
    }
   ],
   "source": [
    "df1.iloc[rows_to_shift,5:]\n"
   ]
  },
  {
   "cell_type": "code",
   "execution_count": 20,
   "id": "c362d036",
   "metadata": {},
   "outputs": [],
   "source": [
    "# Dataset is cleaned after shifting cell to the right"
   ]
  },
  {
   "cell_type": "code",
   "execution_count": 21,
   "id": "ccda537a",
   "metadata": {},
   "outputs": [],
   "source": [
    "df1.iloc[rows_to_shift,5:]=df1.iloc[rows_to_shift,5:].shift(periods=1,axis=\"columns\")"
   ]
  },
  {
   "cell_type": "code",
   "execution_count": 22,
   "id": "2d181c76",
   "metadata": {},
   "outputs": [],
   "source": [
    "#Checking that the rows are shifted one row right"
   ]
  },
  {
   "cell_type": "code",
   "execution_count": 23,
   "id": "b0e91950",
   "metadata": {},
   "outputs": [
    {
     "data": {
      "text/html": [
       "<div>\n",
       "<style scoped>\n",
       "    .dataframe tbody tr th:only-of-type {\n",
       "        vertical-align: middle;\n",
       "    }\n",
       "\n",
       "    .dataframe tbody tr th {\n",
       "        vertical-align: top;\n",
       "    }\n",
       "\n",
       "    .dataframe thead th {\n",
       "        text-align: right;\n",
       "    }\n",
       "</style>\n",
       "<table border=\"1\" class=\"dataframe\">\n",
       "  <thead>\n",
       "    <tr style=\"text-align: right;\">\n",
       "      <th></th>\n",
       "      <th>Suffix</th>\n",
       "      <th>TotalPurchaseYTD</th>\n",
       "      <th>DateFirstPurchase</th>\n",
       "      <th>BirthDate</th>\n",
       "      <th>MaritalStatus</th>\n",
       "      <th>YearlyIncome</th>\n",
       "      <th>Gender</th>\n",
       "      <th>TotalChildren</th>\n",
       "      <th>NumberChildrenAtHome</th>\n",
       "      <th>Education</th>\n",
       "      <th>Ocupation</th>\n",
       "      <th>HomeOwnerFlag</th>\n",
       "      <th>NumberCarsOwned</th>\n",
       "      <th>CommuteDistance</th>\n",
       "    </tr>\n",
       "  </thead>\n",
       "  <tbody>\n",
       "    <tr>\n",
       "      <th>2331</th>\n",
       "      <td>NaN</td>\n",
       "      <td>-990.92</td>\n",
       "      <td>2002-03-24</td>\n",
       "      <td>1969-04-27</td>\n",
       "      <td>S</td>\n",
       "      <td>greater than 100000</td>\n",
       "      <td>F</td>\n",
       "      <td>1</td>\n",
       "      <td>0</td>\n",
       "      <td>Graduate Degree</td>\n",
       "      <td>Management</td>\n",
       "      <td>1</td>\n",
       "      <td>0</td>\n",
       "      <td>0-1 Miles</td>\n",
       "    </tr>\n",
       "    <tr>\n",
       "      <th>8762</th>\n",
       "      <td>NaN</td>\n",
       "      <td>-30</td>\n",
       "      <td>2004-04-30</td>\n",
       "      <td>1960-03-15</td>\n",
       "      <td>M</td>\n",
       "      <td>75001-100000</td>\n",
       "      <td>F</td>\n",
       "      <td>4</td>\n",
       "      <td>3</td>\n",
       "      <td>High School</td>\n",
       "      <td>Professional</td>\n",
       "      <td>1</td>\n",
       "      <td>3</td>\n",
       "      <td>1-2 Miles</td>\n",
       "    </tr>\n",
       "    <tr>\n",
       "      <th>16118</th>\n",
       "      <td>NaN</td>\n",
       "      <td>557.49</td>\n",
       "      <td>2004-05-22</td>\n",
       "      <td>1946-07-18</td>\n",
       "      <td>S</td>\n",
       "      <td>50001-75000</td>\n",
       "      <td>M</td>\n",
       "      <td>5</td>\n",
       "      <td>0</td>\n",
       "      <td>Bachelors</td>\n",
       "      <td>Management</td>\n",
       "      <td>1</td>\n",
       "      <td>3</td>\n",
       "      <td>10+ Miles</td>\n",
       "    </tr>\n",
       "  </tbody>\n",
       "</table>\n",
       "</div>"
      ],
      "text/plain": [
       "      Suffix TotalPurchaseYTD DateFirstPurchase   BirthDate MaritalStatus  \\\n",
       "2331     NaN          -990.92        2002-03-24  1969-04-27             S   \n",
       "8762     NaN              -30        2004-04-30  1960-03-15             M   \n",
       "16118    NaN           557.49        2004-05-22  1946-07-18             S   \n",
       "\n",
       "              YearlyIncome Gender TotalChildren NumberChildrenAtHome  \\\n",
       "2331   greater than 100000      F             1                    0   \n",
       "8762          75001-100000      F             4                    3   \n",
       "16118          50001-75000      M             5                    0   \n",
       "\n",
       "             Education     Ocupation HomeOwnerFlag NumberCarsOwned  \\\n",
       "2331   Graduate Degree    Management             1               0   \n",
       "8762       High School  Professional             1               3   \n",
       "16118        Bachelors    Management             1               3   \n",
       "\n",
       "      CommuteDistance  \n",
       "2331        0-1 Miles  \n",
       "8762        1-2 Miles  \n",
       "16118       10+ Miles  "
      ]
     },
     "execution_count": 23,
     "metadata": {},
     "output_type": "execute_result"
    }
   ],
   "source": [
    "df1.iloc[rows_to_shift,5:]"
   ]
  },
  {
   "cell_type": "code",
   "execution_count": 24,
   "id": "c2fd34d2",
   "metadata": {},
   "outputs": [],
   "source": [
    "# Ambigious Values in the 'Gender' Column noticed"
   ]
  },
  {
   "cell_type": "code",
   "execution_count": 25,
   "id": "7636b7c4",
   "metadata": {},
   "outputs": [
    {
     "data": {
      "text/plain": [
       "array(['M', 'F', 'G', '6', '1', '#', 'B', 'K', '@', 'O', '&', 'T', 'X'],\n",
       "      dtype=object)"
      ]
     },
     "execution_count": 25,
     "metadata": {},
     "output_type": "execute_result"
    }
   ],
   "source": [
    "df1['Gender'].unique()"
   ]
  },
  {
   "cell_type": "code",
   "execution_count": 26,
   "id": "a6323b68",
   "metadata": {},
   "outputs": [],
   "source": [
    "# Replacing all ambigious values in 'Gender' with 'Unknown'"
   ]
  },
  {
   "cell_type": "code",
   "execution_count": 27,
   "id": "2241ee56",
   "metadata": {},
   "outputs": [],
   "source": [
    "df1['Gender'].replace({'G':'Unknown','6':'Unknown','1':'Unknown','#':'Unknown','B':'Unknown','K':'Unknown','@':'Unknown'},inplace=True)"
   ]
  },
  {
   "cell_type": "code",
   "execution_count": 28,
   "id": "b7b1fe0c",
   "metadata": {},
   "outputs": [],
   "source": [
    "df1['Gender'].replace({'O':'Unknown','&':'Unknown','T':'Unknown','X':'Unknown'},inplace=True)"
   ]
  },
  {
   "cell_type": "code",
   "execution_count": 29,
   "id": "695bebe0",
   "metadata": {},
   "outputs": [],
   "source": [
    "# Display 'Gender' Column after cleaning"
   ]
  },
  {
   "cell_type": "code",
   "execution_count": 30,
   "id": "510084c5",
   "metadata": {},
   "outputs": [
    {
     "data": {
      "text/plain": [
       "array(['M', 'F', 'Unknown'], dtype=object)"
      ]
     },
     "execution_count": 30,
     "metadata": {},
     "output_type": "execute_result"
    }
   ],
   "source": [
    "df1['Gender'].unique()"
   ]
  },
  {
   "cell_type": "code",
   "execution_count": 31,
   "id": "1b26fcd5",
   "metadata": {},
   "outputs": [],
   "source": [
    "df1['NumberChildrenAtHome'].replace({'4,':4},inplace=True) #Typo is replaced "
   ]
  },
  {
   "cell_type": "code",
   "execution_count": 32,
   "id": "fd43812b",
   "metadata": {},
   "outputs": [
    {
     "data": {
      "text/plain": [
       "CustomerID               int64\n",
       "BusinessEntityID         int64\n",
       "FirstName               object\n",
       "MiddleName              object\n",
       "LastName                object\n",
       "Suffix                  object\n",
       "TotalPurchaseYTD        object\n",
       "DateFirstPurchase       object\n",
       "BirthDate               object\n",
       "MaritalStatus           object\n",
       "YearlyIncome            object\n",
       "Gender                  object\n",
       "TotalChildren           object\n",
       "NumberChildrenAtHome    object\n",
       "Education               object\n",
       "Ocupation               object\n",
       "HomeOwnerFlag           object\n",
       "NumberCarsOwned         object\n",
       "CommuteDistance         object\n",
       "dtype: object"
      ]
     },
     "execution_count": 32,
     "metadata": {},
     "output_type": "execute_result"
    }
   ],
   "source": [
    "df1.dtypes"
   ]
  },
  {
   "cell_type": "code",
   "execution_count": 33,
   "id": "a8a1307e",
   "metadata": {},
   "outputs": [],
   "source": [
    "#Datatypes are converted"
   ]
  },
  {
   "cell_type": "code",
   "execution_count": 34,
   "id": "357661fa",
   "metadata": {},
   "outputs": [],
   "source": [
    "df1['TotalChildren']=df1['TotalChildren'].astype('int')\n",
    "df1['TotalPurchaseYTD']=df1['TotalPurchaseYTD'].astype('float')\n",
    "df1['NumberCarsOwned']=df1['NumberCarsOwned'].astype('int')\n",
    "df1['NumberChildrenAtHome']=df1['NumberChildrenAtHome'].astype('int')\n",
    "df1['BirthDate'] = pd.to_datetime(df1['BirthDate'])\n",
    "df1['DateFirstPurchase'] = pd.to_datetime(df1['DateFirstPurchase'])\n",
    "df1['HomeOwnerFlag']=df1['HomeOwnerFlag'].astype('int')"
   ]
  },
  {
   "cell_type": "code",
   "execution_count": 35,
   "id": "2bd56f44",
   "metadata": {},
   "outputs": [],
   "source": [
    "#Checking Datatypes after conversion"
   ]
  },
  {
   "cell_type": "code",
   "execution_count": 36,
   "id": "41efba6a",
   "metadata": {},
   "outputs": [
    {
     "name": "stdout",
     "output_type": "stream",
     "text": [
      "<class 'pandas.core.frame.DataFrame'>\n",
      "RangeIndex: 18484 entries, 0 to 18483\n",
      "Data columns (total 19 columns):\n",
      " #   Column                Non-Null Count  Dtype         \n",
      "---  ------                --------------  -----         \n",
      " 0   CustomerID            18484 non-null  int64         \n",
      " 1   BusinessEntityID      18484 non-null  int64         \n",
      " 2   FirstName             18484 non-null  object        \n",
      " 3   MiddleName            10654 non-null  object        \n",
      " 4   LastName              18484 non-null  object        \n",
      " 5   Suffix                3 non-null      object        \n",
      " 6   TotalPurchaseYTD      18484 non-null  float64       \n",
      " 7   DateFirstPurchase     18484 non-null  datetime64[ns]\n",
      " 8   BirthDate             18484 non-null  datetime64[ns]\n",
      " 9   MaritalStatus         18484 non-null  object        \n",
      " 10  YearlyIncome          18484 non-null  object        \n",
      " 11  Gender                18484 non-null  object        \n",
      " 12  TotalChildren         18484 non-null  int32         \n",
      " 13  NumberChildrenAtHome  18484 non-null  int32         \n",
      " 14  Education             18484 non-null  object        \n",
      " 15  Ocupation             18484 non-null  object        \n",
      " 16  HomeOwnerFlag         18484 non-null  int32         \n",
      " 17  NumberCarsOwned       18484 non-null  int32         \n",
      " 18  CommuteDistance       18484 non-null  object        \n",
      "dtypes: datetime64[ns](2), float64(1), int32(4), int64(2), object(10)\n",
      "memory usage: 2.4+ MB\n"
     ]
    }
   ],
   "source": [
    "df1.info()"
   ]
  },
  {
   "cell_type": "code",
   "execution_count": 37,
   "id": "9d6622e7",
   "metadata": {},
   "outputs": [],
   "source": [
    "# Insert Age Column by calculating Age Using Birthdate"
   ]
  },
  {
   "cell_type": "code",
   "execution_count": 38,
   "id": "10f043b6",
   "metadata": {},
   "outputs": [
    {
     "data": {
      "text/html": [
       "<div>\n",
       "<style scoped>\n",
       "    .dataframe tbody tr th:only-of-type {\n",
       "        vertical-align: middle;\n",
       "    }\n",
       "\n",
       "    .dataframe tbody tr th {\n",
       "        vertical-align: top;\n",
       "    }\n",
       "\n",
       "    .dataframe thead th {\n",
       "        text-align: right;\n",
       "    }\n",
       "</style>\n",
       "<table border=\"1\" class=\"dataframe\">\n",
       "  <thead>\n",
       "    <tr style=\"text-align: right;\">\n",
       "      <th></th>\n",
       "      <th>CustomerID</th>\n",
       "      <th>BusinessEntityID</th>\n",
       "      <th>FirstName</th>\n",
       "      <th>MiddleName</th>\n",
       "      <th>LastName</th>\n",
       "      <th>Suffix</th>\n",
       "      <th>TotalPurchaseYTD</th>\n",
       "      <th>DateFirstPurchase</th>\n",
       "      <th>BirthDate</th>\n",
       "      <th>MaritalStatus</th>\n",
       "      <th>YearlyIncome</th>\n",
       "      <th>Gender</th>\n",
       "      <th>TotalChildren</th>\n",
       "      <th>NumberChildrenAtHome</th>\n",
       "      <th>Education</th>\n",
       "      <th>Ocupation</th>\n",
       "      <th>HomeOwnerFlag</th>\n",
       "      <th>NumberCarsOwned</th>\n",
       "      <th>CommuteDistance</th>\n",
       "      <th>Age</th>\n",
       "    </tr>\n",
       "  </thead>\n",
       "  <tbody>\n",
       "    <tr>\n",
       "      <th>0</th>\n",
       "      <td>11377</td>\n",
       "      <td>1699</td>\n",
       "      <td>David</td>\n",
       "      <td>R.</td>\n",
       "      <td>Robinett</td>\n",
       "      <td>NaN</td>\n",
       "      <td>-16.0100</td>\n",
       "      <td>2003-09-01</td>\n",
       "      <td>1961-02-23</td>\n",
       "      <td>M</td>\n",
       "      <td>25001-50000</td>\n",
       "      <td>M</td>\n",
       "      <td>4</td>\n",
       "      <td>0</td>\n",
       "      <td>Graduate Degree</td>\n",
       "      <td>Clerical</td>\n",
       "      <td>1</td>\n",
       "      <td>0</td>\n",
       "      <td>0-1 Miles</td>\n",
       "      <td>60</td>\n",
       "    </tr>\n",
       "    <tr>\n",
       "      <th>1</th>\n",
       "      <td>11913</td>\n",
       "      <td>1700</td>\n",
       "      <td>Rebecca</td>\n",
       "      <td>A.</td>\n",
       "      <td>Robinson</td>\n",
       "      <td>NaN</td>\n",
       "      <td>-4.0000</td>\n",
       "      <td>2004-06-05</td>\n",
       "      <td>1965-06-11</td>\n",
       "      <td>M</td>\n",
       "      <td>50001-75000</td>\n",
       "      <td>F</td>\n",
       "      <td>3</td>\n",
       "      <td>3</td>\n",
       "      <td>Bachelors</td>\n",
       "      <td>Professional</td>\n",
       "      <td>1</td>\n",
       "      <td>1</td>\n",
       "      <td>5-10 Miles</td>\n",
       "      <td>56</td>\n",
       "    </tr>\n",
       "    <tr>\n",
       "      <th>2</th>\n",
       "      <td>11952</td>\n",
       "      <td>1701</td>\n",
       "      <td>Dorothy</td>\n",
       "      <td>B.</td>\n",
       "      <td>Robinson</td>\n",
       "      <td>NaN</td>\n",
       "      <td>4730.0400</td>\n",
       "      <td>2002-04-07</td>\n",
       "      <td>1954-09-23</td>\n",
       "      <td>S</td>\n",
       "      <td>75001-100000</td>\n",
       "      <td>M</td>\n",
       "      <td>2</td>\n",
       "      <td>0</td>\n",
       "      <td>Partial College</td>\n",
       "      <td>Skilled Manual</td>\n",
       "      <td>0</td>\n",
       "      <td>2</td>\n",
       "      <td>1-2 Miles</td>\n",
       "      <td>67</td>\n",
       "    </tr>\n",
       "    <tr>\n",
       "      <th>3</th>\n",
       "      <td>20164</td>\n",
       "      <td>1702</td>\n",
       "      <td>Carol Ann</td>\n",
       "      <td>F.</td>\n",
       "      <td>Rockne</td>\n",
       "      <td>NaN</td>\n",
       "      <td>2435.4018</td>\n",
       "      <td>2001-10-27</td>\n",
       "      <td>1943-07-15</td>\n",
       "      <td>M</td>\n",
       "      <td>25001-50000</td>\n",
       "      <td>M</td>\n",
       "      <td>1</td>\n",
       "      <td>0</td>\n",
       "      <td>Bachelors</td>\n",
       "      <td>Clerical</td>\n",
       "      <td>1</td>\n",
       "      <td>0</td>\n",
       "      <td>0-1 Miles</td>\n",
       "      <td>78</td>\n",
       "    </tr>\n",
       "    <tr>\n",
       "      <th>4</th>\n",
       "      <td>20211</td>\n",
       "      <td>1703</td>\n",
       "      <td>Scott</td>\n",
       "      <td>M.</td>\n",
       "      <td>Rodgers</td>\n",
       "      <td>NaN</td>\n",
       "      <td>1647.0000</td>\n",
       "      <td>2002-04-18</td>\n",
       "      <td>1968-05-15</td>\n",
       "      <td>M</td>\n",
       "      <td>50001-75000</td>\n",
       "      <td>M</td>\n",
       "      <td>2</td>\n",
       "      <td>2</td>\n",
       "      <td>Bachelors</td>\n",
       "      <td>Professional</td>\n",
       "      <td>1</td>\n",
       "      <td>1</td>\n",
       "      <td>2-5 Miles</td>\n",
       "      <td>53</td>\n",
       "    </tr>\n",
       "    <tr>\n",
       "      <th>...</th>\n",
       "      <td>...</td>\n",
       "      <td>...</td>\n",
       "      <td>...</td>\n",
       "      <td>...</td>\n",
       "      <td>...</td>\n",
       "      <td>...</td>\n",
       "      <td>...</td>\n",
       "      <td>...</td>\n",
       "      <td>...</td>\n",
       "      <td>...</td>\n",
       "      <td>...</td>\n",
       "      <td>...</td>\n",
       "      <td>...</td>\n",
       "      <td>...</td>\n",
       "      <td>...</td>\n",
       "      <td>...</td>\n",
       "      <td>...</td>\n",
       "      <td>...</td>\n",
       "      <td>...</td>\n",
       "      <td>...</td>\n",
       "    </tr>\n",
       "    <tr>\n",
       "      <th>18479</th>\n",
       "      <td>19379</td>\n",
       "      <td>20773</td>\n",
       "      <td>Crystal</td>\n",
       "      <td>NaN</td>\n",
       "      <td>Guo</td>\n",
       "      <td>NaN</td>\n",
       "      <td>54.4800</td>\n",
       "      <td>2004-04-19</td>\n",
       "      <td>1974-11-23</td>\n",
       "      <td>S</td>\n",
       "      <td>0-25000</td>\n",
       "      <td>F</td>\n",
       "      <td>0</td>\n",
       "      <td>0</td>\n",
       "      <td>Partial High School</td>\n",
       "      <td>Manual</td>\n",
       "      <td>1</td>\n",
       "      <td>2</td>\n",
       "      <td>0-1 Miles</td>\n",
       "      <td>47</td>\n",
       "    </tr>\n",
       "    <tr>\n",
       "      <th>18480</th>\n",
       "      <td>13933</td>\n",
       "      <td>20774</td>\n",
       "      <td>Isabella</td>\n",
       "      <td>F</td>\n",
       "      <td>Richardson</td>\n",
       "      <td>NaN</td>\n",
       "      <td>-13.0100</td>\n",
       "      <td>2003-08-30</td>\n",
       "      <td>1961-06-12</td>\n",
       "      <td>M</td>\n",
       "      <td>50001-75000</td>\n",
       "      <td>F</td>\n",
       "      <td>1</td>\n",
       "      <td>0</td>\n",
       "      <td>Partial College</td>\n",
       "      <td>Skilled Manual</td>\n",
       "      <td>1</td>\n",
       "      <td>1</td>\n",
       "      <td>2-5 Miles</td>\n",
       "      <td>60</td>\n",
       "    </tr>\n",
       "    <tr>\n",
       "      <th>18481</th>\n",
       "      <td>24634</td>\n",
       "      <td>20775</td>\n",
       "      <td>Crystal</td>\n",
       "      <td>S</td>\n",
       "      <td>He</td>\n",
       "      <td>NaN</td>\n",
       "      <td>112.5800</td>\n",
       "      <td>2004-04-12</td>\n",
       "      <td>1940-04-05</td>\n",
       "      <td>M</td>\n",
       "      <td>50001-75000</td>\n",
       "      <td>F</td>\n",
       "      <td>3</td>\n",
       "      <td>0</td>\n",
       "      <td>Bachelors</td>\n",
       "      <td>Management</td>\n",
       "      <td>1</td>\n",
       "      <td>2</td>\n",
       "      <td>10+ Miles</td>\n",
       "      <td>81</td>\n",
       "    </tr>\n",
       "    <tr>\n",
       "      <th>18482</th>\n",
       "      <td>21127</td>\n",
       "      <td>20776</td>\n",
       "      <td>Crystal</td>\n",
       "      <td>NaN</td>\n",
       "      <td>Zheng</td>\n",
       "      <td>NaN</td>\n",
       "      <td>-9.5100</td>\n",
       "      <td>2004-02-15</td>\n",
       "      <td>1975-07-25</td>\n",
       "      <td>S</td>\n",
       "      <td>25001-50000</td>\n",
       "      <td>F</td>\n",
       "      <td>0</td>\n",
       "      <td>0</td>\n",
       "      <td>Partial College</td>\n",
       "      <td>Clerical</td>\n",
       "      <td>1</td>\n",
       "      <td>1</td>\n",
       "      <td>2-5 Miles</td>\n",
       "      <td>46</td>\n",
       "    </tr>\n",
       "    <tr>\n",
       "      <th>18483</th>\n",
       "      <td>27980</td>\n",
       "      <td>20777</td>\n",
       "      <td>Crystal</td>\n",
       "      <td>NaN</td>\n",
       "      <td>Hu</td>\n",
       "      <td>NaN</td>\n",
       "      <td>-19.5000</td>\n",
       "      <td>2003-11-17</td>\n",
       "      <td>1971-05-05</td>\n",
       "      <td>M</td>\n",
       "      <td>75001-100000</td>\n",
       "      <td>F</td>\n",
       "      <td>0</td>\n",
       "      <td>0</td>\n",
       "      <td>Bachelors</td>\n",
       "      <td>Professional</td>\n",
       "      <td>0</td>\n",
       "      <td>4</td>\n",
       "      <td>10+ Miles</td>\n",
       "      <td>50</td>\n",
       "    </tr>\n",
       "  </tbody>\n",
       "</table>\n",
       "<p>18484 rows × 20 columns</p>\n",
       "</div>"
      ],
      "text/plain": [
       "       CustomerID  BusinessEntityID  FirstName MiddleName    LastName Suffix  \\\n",
       "0           11377              1699      David         R.    Robinett    NaN   \n",
       "1           11913              1700    Rebecca         A.    Robinson    NaN   \n",
       "2           11952              1701    Dorothy         B.    Robinson    NaN   \n",
       "3           20164              1702  Carol Ann         F.      Rockne    NaN   \n",
       "4           20211              1703      Scott         M.     Rodgers    NaN   \n",
       "...           ...               ...        ...        ...         ...    ...   \n",
       "18479       19379             20773    Crystal        NaN         Guo    NaN   \n",
       "18480       13933             20774   Isabella          F  Richardson    NaN   \n",
       "18481       24634             20775    Crystal          S          He    NaN   \n",
       "18482       21127             20776    Crystal        NaN       Zheng    NaN   \n",
       "18483       27980             20777    Crystal        NaN          Hu    NaN   \n",
       "\n",
       "       TotalPurchaseYTD DateFirstPurchase  BirthDate MaritalStatus  \\\n",
       "0              -16.0100        2003-09-01 1961-02-23             M   \n",
       "1               -4.0000        2004-06-05 1965-06-11             M   \n",
       "2             4730.0400        2002-04-07 1954-09-23             S   \n",
       "3             2435.4018        2001-10-27 1943-07-15             M   \n",
       "4             1647.0000        2002-04-18 1968-05-15             M   \n",
       "...                 ...               ...        ...           ...   \n",
       "18479           54.4800        2004-04-19 1974-11-23             S   \n",
       "18480          -13.0100        2003-08-30 1961-06-12             M   \n",
       "18481          112.5800        2004-04-12 1940-04-05             M   \n",
       "18482           -9.5100        2004-02-15 1975-07-25             S   \n",
       "18483          -19.5000        2003-11-17 1971-05-05             M   \n",
       "\n",
       "       YearlyIncome Gender  TotalChildren  NumberChildrenAtHome  \\\n",
       "0       25001-50000      M              4                     0   \n",
       "1       50001-75000      F              3                     3   \n",
       "2      75001-100000      M              2                     0   \n",
       "3       25001-50000      M              1                     0   \n",
       "4       50001-75000      M              2                     2   \n",
       "...             ...    ...            ...                   ...   \n",
       "18479       0-25000      F              0                     0   \n",
       "18480   50001-75000      F              1                     0   \n",
       "18481   50001-75000      F              3                     0   \n",
       "18482   25001-50000      F              0                     0   \n",
       "18483  75001-100000      F              0                     0   \n",
       "\n",
       "                 Education       Ocupation  HomeOwnerFlag  NumberCarsOwned  \\\n",
       "0          Graduate Degree        Clerical              1                0   \n",
       "1                Bachelors    Professional              1                1   \n",
       "2          Partial College  Skilled Manual              0                2   \n",
       "3                Bachelors        Clerical              1                0   \n",
       "4                Bachelors    Professional              1                1   \n",
       "...                    ...             ...            ...              ...   \n",
       "18479  Partial High School          Manual              1                2   \n",
       "18480      Partial College  Skilled Manual              1                1   \n",
       "18481            Bachelors      Management              1                2   \n",
       "18482      Partial College        Clerical              1                1   \n",
       "18483            Bachelors    Professional              0                4   \n",
       "\n",
       "      CommuteDistance  Age  \n",
       "0           0-1 Miles   60  \n",
       "1          5-10 Miles   56  \n",
       "2           1-2 Miles   67  \n",
       "3           0-1 Miles   78  \n",
       "4           2-5 Miles   53  \n",
       "...               ...  ...  \n",
       "18479       0-1 Miles   47  \n",
       "18480       2-5 Miles   60  \n",
       "18481       10+ Miles   81  \n",
       "18482       2-5 Miles   46  \n",
       "18483       10+ Miles   50  \n",
       "\n",
       "[18484 rows x 20 columns]"
      ]
     },
     "execution_count": 38,
     "metadata": {},
     "output_type": "execute_result"
    }
   ],
   "source": [
    "now_year=dt.datetime.today().year\n",
    "df1['Age']=now_year-df1['BirthDate'].dt.year\n",
    "df1"
   ]
  },
  {
   "cell_type": "code",
   "execution_count": 39,
   "id": "dc6edadb",
   "metadata": {},
   "outputs": [],
   "source": [
    "# Exporting Cleaned Csv file"
   ]
  },
  {
   "cell_type": "code",
   "execution_count": 40,
   "id": "0ef14309",
   "metadata": {},
   "outputs": [],
   "source": [
    "df1.to_csv(r'C:\\Users\\AsokkumR\\Downloads\\Sree_Customers_Cleaned.csv')"
   ]
  },
  {
   "cell_type": "markdown",
   "id": "3655bac5",
   "metadata": {},
   "source": [
    "# STATISTICAL ANALYSIS OF THE CUSTOMERS DATA"
   ]
  },
  {
   "cell_type": "raw",
   "id": "1deccf98",
   "metadata": {},
   "source": [
    "The given Customer dataset is cleaned and ready for further Analysis. The data contains 18484 unique CustomerID's"
   ]
  },
  {
   "cell_type": "code",
   "execution_count": 41,
   "id": "11ba3ca1",
   "metadata": {},
   "outputs": [
    {
     "data": {
      "text/plain": [
       "18484"
      ]
     },
     "execution_count": 41,
     "metadata": {},
     "output_type": "execute_result"
    }
   ],
   "source": [
    "unique_customers=df1['CustomerID'].unique().tolist()\n",
    "len(unique_customers)"
   ]
  },
  {
   "cell_type": "markdown",
   "id": "8fc34a91",
   "metadata": {},
   "source": [
    "### Number of Customers by YearlyIncome "
   ]
  },
  {
   "cell_type": "code",
   "execution_count": 42,
   "id": "d6101d7b",
   "metadata": {},
   "outputs": [
    {
     "data": {
      "text/html": [
       "<div>\n",
       "<style scoped>\n",
       "    .dataframe tbody tr th:only-of-type {\n",
       "        vertical-align: middle;\n",
       "    }\n",
       "\n",
       "    .dataframe tbody tr th {\n",
       "        vertical-align: top;\n",
       "    }\n",
       "\n",
       "    .dataframe thead th {\n",
       "        text-align: right;\n",
       "    }\n",
       "</style>\n",
       "<table border=\"1\" class=\"dataframe\">\n",
       "  <thead>\n",
       "    <tr style=\"text-align: right;\">\n",
       "      <th></th>\n",
       "      <th>CustomerID</th>\n",
       "    </tr>\n",
       "    <tr>\n",
       "      <th>YearlyIncome</th>\n",
       "      <th></th>\n",
       "    </tr>\n",
       "  </thead>\n",
       "  <tbody>\n",
       "    <tr>\n",
       "      <th>0-25000</th>\n",
       "      <td>2922</td>\n",
       "    </tr>\n",
       "    <tr>\n",
       "      <th>25001-50000</th>\n",
       "      <td>5704</td>\n",
       "    </tr>\n",
       "    <tr>\n",
       "      <th>50001-75000</th>\n",
       "      <td>5476</td>\n",
       "    </tr>\n",
       "    <tr>\n",
       "      <th>75001-100000</th>\n",
       "      <td>2755</td>\n",
       "    </tr>\n",
       "    <tr>\n",
       "      <th>greater than 100000</th>\n",
       "      <td>1627</td>\n",
       "    </tr>\n",
       "  </tbody>\n",
       "</table>\n",
       "</div>"
      ],
      "text/plain": [
       "                     CustomerID\n",
       "YearlyIncome                   \n",
       "0-25000                    2922\n",
       "25001-50000                5704\n",
       "50001-75000                5476\n",
       "75001-100000               2755\n",
       "greater than 100000        1627"
      ]
     },
     "execution_count": 42,
     "metadata": {},
     "output_type": "execute_result"
    }
   ],
   "source": [
    "df2=df1.groupby('YearlyIncome')[['CustomerID']].count()\n",
    "df2"
   ]
  },
  {
   "cell_type": "code",
   "execution_count": 43,
   "id": "76df9f6a",
   "metadata": {},
   "outputs": [
    {
     "data": {
      "text/plain": [
       "<AxesSubplot:title={'center':'Number of Customers by Income'}, xlabel='YearlyIncome', ylabel='Number of Customers'>"
      ]
     },
     "execution_count": 43,
     "metadata": {},
     "output_type": "execute_result"
    },
    {
     "data": {
      "image/png": "[encoded data removed]",
      "text/plain": [
       "<Figure size 432x360 with 1 Axes>"
      ]
     },
     "metadata": {
      "needs_background": "light"
     },
     "output_type": "display_data"
    }
   ],
   "source": [
    "df2.plot(kind='bar',title='Number of Customers by Income',ylabel='Number of Customers',figsize=(6,5))\n"
   ]
  },
  {
   "cell_type": "markdown",
   "id": "73322d4f",
   "metadata": {},
   "source": [
    "### Number of Customers based on Gender"
   ]
  },
  {
   "cell_type": "code",
   "execution_count": 44,
   "id": "353be801",
   "metadata": {},
   "outputs": [
    {
     "data": {
      "text/html": [
       "<div>\n",
       "<style scoped>\n",
       "    .dataframe tbody tr th:only-of-type {\n",
       "        vertical-align: middle;\n",
       "    }\n",
       "\n",
       "    .dataframe tbody tr th {\n",
       "        vertical-align: top;\n",
       "    }\n",
       "\n",
       "    .dataframe thead th {\n",
       "        text-align: right;\n",
       "    }\n",
       "</style>\n",
       "<table border=\"1\" class=\"dataframe\">\n",
       "  <thead>\n",
       "    <tr style=\"text-align: right;\">\n",
       "      <th></th>\n",
       "      <th>CustomerID</th>\n",
       "    </tr>\n",
       "    <tr>\n",
       "      <th>Gender</th>\n",
       "      <th></th>\n",
       "    </tr>\n",
       "  </thead>\n",
       "  <tbody>\n",
       "    <tr>\n",
       "      <th>F</th>\n",
       "      <td>9124</td>\n",
       "    </tr>\n",
       "    <tr>\n",
       "      <th>M</th>\n",
       "      <td>9345</td>\n",
       "    </tr>\n",
       "    <tr>\n",
       "      <th>Unknown</th>\n",
       "      <td>15</td>\n",
       "    </tr>\n",
       "  </tbody>\n",
       "</table>\n",
       "</div>"
      ],
      "text/plain": [
       "         CustomerID\n",
       "Gender             \n",
       "F              9124\n",
       "M              9345\n",
       "Unknown          15"
      ]
     },
     "execution_count": 44,
     "metadata": {},
     "output_type": "execute_result"
    }
   ],
   "source": [
    "df3=df1.groupby('Gender')[['CustomerID']].count()\n",
    "df3\n"
   ]
  },
  {
   "cell_type": "code",
   "execution_count": 45,
   "id": "c7363e5a",
   "metadata": {},
   "outputs": [
    {
     "data": {
      "text/plain": [
       "<AxesSubplot:ylabel='CustomerID'>"
      ]
     },
     "execution_count": 45,
     "metadata": {},
     "output_type": "execute_result"
    },
    {
     "data": {
      "image/png": "[encoded data removed]",
      "text/plain": [
       "<Figure size 432x288 with 1 Axes>"
      ]
     },
     "metadata": {},
     "output_type": "display_data"
    }
   ],
   "source": [
    "df3.plot(kind='pie',y='CustomerID',shadow=True,autopct='%1.1f%%')"
   ]
  },
  {
   "cell_type": "markdown",
   "id": "24e27fa2",
   "metadata": {},
   "source": [
    "### Number of Customers by MaritalStatus and HomeOwner Status "
   ]
  },
  {
   "cell_type": "code",
   "execution_count": 46,
   "id": "b0b23de0",
   "metadata": {},
   "outputs": [],
   "source": [
    "df4=df1.groupby(['MaritalStatus','HomeOwnerFlag'],sort=True)[['CustomerID']].count()\n",
    "df4\n",
    "df4.rename(columns={'CustomerID':'Number of Customers'},inplace=True)\n",
    "df4.to_csv(r'C:\\Users\\AsokkumR\\Downloads\\Sree_CustomersbyMaritalStatus.csv')"
   ]
  },
  {
   "cell_type": "code",
   "execution_count": 47,
   "id": "94ecfe61",
   "metadata": {},
   "outputs": [
    {
     "data": {
      "text/plain": [
       "<AxesSubplot:ylabel='MaritalStatus'>"
      ]
     },
     "execution_count": 47,
     "metadata": {},
     "output_type": "execute_result"
    },
    {
     "data": {
      "image/png": "[encoded data removed]",
      "text/plain": [
       "<Figure size 432x288 with 1 Axes>"
      ]
     },
     "metadata": {
      "needs_background": "light"
     },
     "output_type": "display_data"
    }
   ],
   "source": [
    "df1.groupby(['MaritalStatus','HomeOwnerFlag']).count().unstack().plot(kind='barh',y='CustomerID')"
   ]
  },
  {
   "cell_type": "code",
   "execution_count": 48,
   "id": "e0823619",
   "metadata": {
    "scrolled": true
   },
   "outputs": [
    {
     "data": {
      "text/html": [
       "<div>\n",
       "<style scoped>\n",
       "    .dataframe tbody tr th:only-of-type {\n",
       "        vertical-align: middle;\n",
       "    }\n",
       "\n",
       "    .dataframe tbody tr th {\n",
       "        vertical-align: top;\n",
       "    }\n",
       "\n",
       "    .dataframe thead th {\n",
       "        text-align: right;\n",
       "    }\n",
       "</style>\n",
       "<table border=\"1\" class=\"dataframe\">\n",
       "  <thead>\n",
       "    <tr style=\"text-align: right;\">\n",
       "      <th></th>\n",
       "      <th></th>\n",
       "      <th>CustomerID</th>\n",
       "    </tr>\n",
       "    <tr>\n",
       "      <th>Ocupation</th>\n",
       "      <th>HomeOwnerFlag</th>\n",
       "      <th></th>\n",
       "    </tr>\n",
       "  </thead>\n",
       "  <tbody>\n",
       "    <tr>\n",
       "      <th rowspan=\"2\" valign=\"top\">Clerical</th>\n",
       "      <th>0</th>\n",
       "      <td>954</td>\n",
       "    </tr>\n",
       "    <tr>\n",
       "      <th>1</th>\n",
       "      <td>1974</td>\n",
       "    </tr>\n",
       "    <tr>\n",
       "      <th rowspan=\"2\" valign=\"top\">Management</th>\n",
       "      <th>0</th>\n",
       "      <td>816</td>\n",
       "    </tr>\n",
       "    <tr>\n",
       "      <th>1</th>\n",
       "      <td>2259</td>\n",
       "    </tr>\n",
       "    <tr>\n",
       "      <th rowspan=\"2\" valign=\"top\">Manual</th>\n",
       "      <th>0</th>\n",
       "      <td>1123</td>\n",
       "    </tr>\n",
       "    <tr>\n",
       "      <th>1</th>\n",
       "      <td>1261</td>\n",
       "    </tr>\n",
       "    <tr>\n",
       "      <th rowspan=\"2\" valign=\"top\">Professional</th>\n",
       "      <th>0</th>\n",
       "      <td>1826</td>\n",
       "    </tr>\n",
       "    <tr>\n",
       "      <th>1</th>\n",
       "      <td>3694</td>\n",
       "    </tr>\n",
       "    <tr>\n",
       "      <th rowspan=\"2\" valign=\"top\">Skilled Manual</th>\n",
       "      <th>0</th>\n",
       "      <td>1263</td>\n",
       "    </tr>\n",
       "    <tr>\n",
       "      <th>1</th>\n",
       "      <td>3314</td>\n",
       "    </tr>\n",
       "  </tbody>\n",
       "</table>\n",
       "</div>"
      ],
      "text/plain": [
       "                              CustomerID\n",
       "Ocupation      HomeOwnerFlag            \n",
       "Clerical       0                     954\n",
       "               1                    1974\n",
       "Management     0                     816\n",
       "               1                    2259\n",
       "Manual         0                    1123\n",
       "               1                    1261\n",
       "Professional   0                    1826\n",
       "               1                    3694\n",
       "Skilled Manual 0                    1263\n",
       "               1                    3314"
      ]
     },
     "execution_count": 48,
     "metadata": {},
     "output_type": "execute_result"
    }
   ],
   "source": [
    "df1.groupby(['Ocupation','HomeOwnerFlag'],sort=True)[['CustomerID']].count()"
   ]
  },
  {
   "cell_type": "code",
   "execution_count": 49,
   "id": "4f5d7539",
   "metadata": {},
   "outputs": [],
   "source": [
    "data=df1.groupby(['Ocupation','Education',],sort=True)[['CustomerID']].count()\n",
    "data.rename(columns={'CustomerID':'Number of Customers'},inplace=True)\n",
    "data.to_csv(r'C:\\Users\\AsokkumR\\Downloads\\Sree_CustomersbyProfession.csv')"
   ]
  },
  {
   "cell_type": "code",
   "execution_count": 50,
   "id": "b16479c9",
   "metadata": {},
   "outputs": [
    {
     "data": {
      "text/plain": [
       "<AxesSubplot:ylabel='Ocupation'>"
      ]
     },
     "execution_count": 50,
     "metadata": {},
     "output_type": "execute_result"
    },
    {
     "data": {
      "image/png": "[encoded data removed]",
      "text/plain": [
       "<Figure size 432x288 with 1 Axes>"
      ]
     },
     "metadata": {
      "needs_background": "light"
     },
     "output_type": "display_data"
    }
   ],
   "source": [
    "df1.groupby(['Ocupation','HomeOwnerFlag']).count().unstack().plot(kind='barh',y='CustomerID')"
   ]
  },
  {
   "cell_type": "code",
   "execution_count": 51,
   "id": "00cf5b7b",
   "metadata": {},
   "outputs": [
    {
     "data": {
      "text/plain": [
       "<AxesSubplot:title={'center':'Number of Customers by Age'}, xlabel='Age', ylabel='Number of Customers'>"
      ]
     },
     "execution_count": 51,
     "metadata": {},
     "output_type": "execute_result"
    },
    {
     "data": {
      "image/png": "[encoded data removed]",
      "text/plain": [
       "<Figure size 432x288 with 1 Axes>"
      ]
     },
     "metadata": {
      "needs_background": "light"
     },
     "output_type": "display_data"
    }
   ],
   "source": [
    "g=df1.groupby('Age')[['CustomerID']].count()\n",
    "\n",
    "g.plot(kind='line',title='Number of Customers by Age',ylabel='Number of Customers')"
   ]
  },
  {
   "cell_type": "code",
   "execution_count": 52,
   "id": "b17a0629",
   "metadata": {},
   "outputs": [],
   "source": [
    "# In the Customer dataset 10893 Customers has Positive PurchaseYTD values and 7580 Customers got Negative Values"
   ]
  },
  {
   "cell_type": "code",
   "execution_count": 53,
   "id": "87480974",
   "metadata": {},
   "outputs": [
    {
     "data": {
      "text/plain": [
       "7580"
      ]
     },
     "execution_count": 53,
     "metadata": {},
     "output_type": "execute_result"
    }
   ],
   "source": [
    "NegPYTD=df1[df1['TotalPurchaseYTD'] < 0]\n",
    "NegPYTD['TotalPurchaseYTD'].count()\n"
   ]
  },
  {
   "cell_type": "code",
   "execution_count": 54,
   "id": "c72b0a8d",
   "metadata": {},
   "outputs": [
    {
     "data": {
      "text/plain": [
       "10893"
      ]
     },
     "execution_count": 54,
     "metadata": {},
     "output_type": "execute_result"
    }
   ],
   "source": [
    "PosPYTD=df1[df1['TotalPurchaseYTD'] >0]\n",
    "PosPYTD['TotalPurchaseYTD'].count()"
   ]
  },
  {
   "cell_type": "code",
   "execution_count": 55,
   "id": "d468dd0d",
   "metadata": {},
   "outputs": [
    {
     "data": {
      "text/plain": [
       "<AxesSubplot:xlabel='TotalPurchaseYTD'>"
      ]
     },
     "execution_count": 55,
     "metadata": {},
     "output_type": "execute_result"
    },
    {
     "data": {
      "image/png": "[encoded data removed]",
      "text/plain": [
       "<Figure size 432x288 with 1 Axes>"
      ]
     },
     "metadata": {
      "needs_background": "light"
     },
     "output_type": "display_data"
    }
   ],
   "source": [
    "f=df1.groupby('TotalPurchaseYTD')[['CustomerID']].count()\n",
    "f.plot(kind='line')"
   ]
  }
 ],
 "metadata": {
  "kernelspec": {
   "display_name": "Python 3",
   "language": "python",
   "name": "python3"
  },
  "language_info": {
   "codemirror_mode": {
    "name": "ipython",
    "version": 3
   },
   "file_extension": ".py",
   "mimetype": "text/x-python",
   "name": "python",
   "nbconvert_exporter": "python",
   "pygments_lexer": "ipython3",
   "version": "3.8.8"
  }
 },
 "nbformat": 4,
 "nbformat_minor": 5
}
